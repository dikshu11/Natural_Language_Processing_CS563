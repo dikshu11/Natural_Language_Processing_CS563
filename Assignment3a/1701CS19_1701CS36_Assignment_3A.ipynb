{
  "nbformat": 4,
  "nbformat_minor": 0,
  "metadata": {
    "colab": {
      "name": "1701CS19_1701CS36_Assignment_3A",
      "provenance": [],
      "collapsed_sections": []
    },
    "kernelspec": {
      "name": "python3",
      "display_name": "Python 3"
    },
    "language_info": {
      "name": "python"
    },
    "accelerator": "GPU",
    "widgets": {
      "application/vnd.jupyter.widget-state+json": {
        "18ad89e4ff2c4211b159e43cef4336c1": {
          "model_module": "@jupyter-widgets/controls",
          "model_name": "HBoxModel",
          "state": {
            "_view_name": "HBoxView",
            "_dom_classes": [],
            "_model_name": "HBoxModel",
            "_view_module": "@jupyter-widgets/controls",
            "_model_module_version": "1.5.0",
            "_view_count": null,
            "_view_module_version": "1.5.0",
            "box_style": "",
            "layout": "IPY_MODEL_8e4a6babf0f54b73907e5e306212dfc2",
            "_model_module": "@jupyter-widgets/controls",
            "children": [
              "IPY_MODEL_45dc39b974ef4fa19efb58c67349b371",
              "IPY_MODEL_ba620ce575be47cf83f7993874630a03"
            ]
          }
        },
        "8e4a6babf0f54b73907e5e306212dfc2": {
          "model_module": "@jupyter-widgets/base",
          "model_name": "LayoutModel",
          "state": {
            "_view_name": "LayoutView",
            "grid_template_rows": null,
            "right": null,
            "justify_content": null,
            "_view_module": "@jupyter-widgets/base",
            "overflow": null,
            "_model_module_version": "1.2.0",
            "_view_count": null,
            "flex_flow": null,
            "width": null,
            "min_width": null,
            "border": null,
            "align_items": null,
            "bottom": null,
            "_model_module": "@jupyter-widgets/base",
            "top": null,
            "grid_column": null,
            "overflow_y": null,
            "overflow_x": null,
            "grid_auto_flow": null,
            "grid_area": null,
            "grid_template_columns": null,
            "flex": null,
            "_model_name": "LayoutModel",
            "justify_items": null,
            "grid_row": null,
            "max_height": null,
            "align_content": null,
            "visibility": null,
            "align_self": null,
            "height": null,
            "min_height": null,
            "padding": null,
            "grid_auto_rows": null,
            "grid_gap": null,
            "max_width": null,
            "order": null,
            "_view_module_version": "1.2.0",
            "grid_template_areas": null,
            "object_position": null,
            "object_fit": null,
            "grid_auto_columns": null,
            "margin": null,
            "display": null,
            "left": null
          }
        },
        "45dc39b974ef4fa19efb58c67349b371": {
          "model_module": "@jupyter-widgets/controls",
          "model_name": "FloatProgressModel",
          "state": {
            "_view_name": "ProgressView",
            "style": "IPY_MODEL_5306c6e03f8a414280710d7fdc43df15",
            "_dom_classes": [],
            "description": "",
            "_model_name": "FloatProgressModel",
            "bar_style": "success",
            "max": 1,
            "_view_module": "@jupyter-widgets/controls",
            "_model_module_version": "1.5.0",
            "value": 1,
            "_view_count": null,
            "_view_module_version": "1.5.0",
            "orientation": "horizontal",
            "min": 0,
            "description_tooltip": null,
            "_model_module": "@jupyter-widgets/controls",
            "layout": "IPY_MODEL_f56ad367f98d4b7785aa647bebdc88ee"
          }
        },
        "ba620ce575be47cf83f7993874630a03": {
          "model_module": "@jupyter-widgets/controls",
          "model_name": "HTMLModel",
          "state": {
            "_view_name": "HTMLView",
            "style": "IPY_MODEL_21be2587deac497aa82908a711eb9415",
            "_dom_classes": [],
            "description": "",
            "_model_name": "HTMLModel",
            "placeholder": "​",
            "_view_module": "@jupyter-widgets/controls",
            "_model_module_version": "1.5.0",
            "value": " 1999996/? [02:19&lt;00:00, 14297.16it/s]",
            "_view_count": null,
            "_view_module_version": "1.5.0",
            "description_tooltip": null,
            "_model_module": "@jupyter-widgets/controls",
            "layout": "IPY_MODEL_db9621c63c6a450e8ce906e12a05cebd"
          }
        },
        "5306c6e03f8a414280710d7fdc43df15": {
          "model_module": "@jupyter-widgets/controls",
          "model_name": "ProgressStyleModel",
          "state": {
            "_view_name": "StyleView",
            "_model_name": "ProgressStyleModel",
            "description_width": "initial",
            "_view_module": "@jupyter-widgets/base",
            "_model_module_version": "1.5.0",
            "_view_count": null,
            "_view_module_version": "1.2.0",
            "bar_color": null,
            "_model_module": "@jupyter-widgets/controls"
          }
        },
        "f56ad367f98d4b7785aa647bebdc88ee": {
          "model_module": "@jupyter-widgets/base",
          "model_name": "LayoutModel",
          "state": {
            "_view_name": "LayoutView",
            "grid_template_rows": null,
            "right": null,
            "justify_content": null,
            "_view_module": "@jupyter-widgets/base",
            "overflow": null,
            "_model_module_version": "1.2.0",
            "_view_count": null,
            "flex_flow": null,
            "width": null,
            "min_width": null,
            "border": null,
            "align_items": null,
            "bottom": null,
            "_model_module": "@jupyter-widgets/base",
            "top": null,
            "grid_column": null,
            "overflow_y": null,
            "overflow_x": null,
            "grid_auto_flow": null,
            "grid_area": null,
            "grid_template_columns": null,
            "flex": null,
            "_model_name": "LayoutModel",
            "justify_items": null,
            "grid_row": null,
            "max_height": null,
            "align_content": null,
            "visibility": null,
            "align_self": null,
            "height": null,
            "min_height": null,
            "padding": null,
            "grid_auto_rows": null,
            "grid_gap": null,
            "max_width": null,
            "order": null,
            "_view_module_version": "1.2.0",
            "grid_template_areas": null,
            "object_position": null,
            "object_fit": null,
            "grid_auto_columns": null,
            "margin": null,
            "display": null,
            "left": null
          }
        },
        "21be2587deac497aa82908a711eb9415": {
          "model_module": "@jupyter-widgets/controls",
          "model_name": "DescriptionStyleModel",
          "state": {
            "_view_name": "StyleView",
            "_model_name": "DescriptionStyleModel",
            "description_width": "",
            "_view_module": "@jupyter-widgets/base",
            "_model_module_version": "1.5.0",
            "_view_count": null,
            "_view_module_version": "1.2.0",
            "_model_module": "@jupyter-widgets/controls"
          }
        },
        "db9621c63c6a450e8ce906e12a05cebd": {
          "model_module": "@jupyter-widgets/base",
          "model_name": "LayoutModel",
          "state": {
            "_view_name": "LayoutView",
            "grid_template_rows": null,
            "right": null,
            "justify_content": null,
            "_view_module": "@jupyter-widgets/base",
            "overflow": null,
            "_model_module_version": "1.2.0",
            "_view_count": null,
            "flex_flow": null,
            "width": null,
            "min_width": null,
            "border": null,
            "align_items": null,
            "bottom": null,
            "_model_module": "@jupyter-widgets/base",
            "top": null,
            "grid_column": null,
            "overflow_y": null,
            "overflow_x": null,
            "grid_auto_flow": null,
            "grid_area": null,
            "grid_template_columns": null,
            "flex": null,
            "_model_name": "LayoutModel",
            "justify_items": null,
            "grid_row": null,
            "max_height": null,
            "align_content": null,
            "visibility": null,
            "align_self": null,
            "height": null,
            "min_height": null,
            "padding": null,
            "grid_auto_rows": null,
            "grid_gap": null,
            "max_width": null,
            "order": null,
            "_view_module_version": "1.2.0",
            "grid_template_areas": null,
            "object_position": null,
            "object_fit": null,
            "grid_auto_columns": null,
            "margin": null,
            "display": null,
            "left": null
          }
        }
      }
    }
  },
  "cells": [
    {
      "cell_type": "code",
      "metadata": {
        "id": "qLv02g5eaBc8",
        "colab": {
          "base_uri": "https://localhost:8080/"
        },
        "outputId": "c8b67cb9-fd8b-4015-e3fe-dfa89dd53d76"
      },
      "source": [
        "import re\n",
        "import os\n",
        "import time\n",
        "import gc\n",
        "import random\n",
        "import numpy as np\n",
        "import pandas as pd\n",
        "\n",
        "from sklearn.feature_extraction.text import CountVectorizer\n",
        "from keras.preprocessing.text import Tokenizer\n",
        "from keras.preprocessing.sequence import pad_sequences\n",
        "from keras.models import Sequential\n",
        "from keras.layers import Dense, Embedding, LSTM, SpatialDropout1D\n",
        "from sklearn.model_selection import train_test_split\n",
        "from keras.utils.np_utils import to_categorical\n",
        "from tqdm._tqdm_notebook import tqdm_notebook as tqdm\n",
        "from keras.preprocessing import text, sequence"
      ],
      "execution_count": 1,
      "outputs": [
        {
          "output_type": "stream",
          "text": [
            "/usr/local/lib/python3.7/dist-packages/ipykernel_launcher.py:16: TqdmDeprecationWarning: This function will be removed in tqdm==5.0.0\n",
            "Please use `tqdm.notebook.*` instead of `tqdm._tqdm_notebook.*`\n",
            "  app.launch_new_instance()\n"
          ],
          "name": "stderr"
        }
      ]
    },
    {
      "cell_type": "code",
      "metadata": {
        "id": "zZeawUWnvjDD"
      },
      "source": [
        "EMBEDDING_DIM = 300\n",
        "MAX_LEN = 300\n",
        "FASTTEXT_EMBEDDING_PATH = \"/content/crawl-300d-2M.vec\""
      ],
      "execution_count": 2,
      "outputs": []
    },
    {
      "cell_type": "code",
      "metadata": {
        "colab": {
          "base_uri": "https://localhost:8080/"
        },
        "id": "4rQeXxgLaHW2",
        "outputId": "34c4c1aa-70c8-409b-be39-81be488b3e7e"
      },
      "source": [
        "# !wget https://dl.fbaipublicfiles.com/fasttext/vectors-english/crawl-300d-2M.vec.zip\n",
        "!unzip /content/Dataset.zip"
      ],
      "execution_count": 3,
      "outputs": [
        {
          "output_type": "stream",
          "text": [
            "Archive:  /content/Dataset.zip\n",
            "replace twitter-test.tsv? [y]es, [n]o, [A]ll, [N]one, [r]ename: y\n",
            "  inflating: twitter-test.tsv        \n",
            "replace twitter-dev.tsv? [y]es, [n]o, [A]ll, [N]one, [r]ename: y\n",
            "  inflating: twitter-dev.tsv         \n",
            "replace twitter-train.tsv? [y]es, [n]o, [A]ll, [N]one, [r]ename: y\n",
            "  inflating: twitter-train.tsv       \n"
          ],
          "name": "stdout"
        }
      ]
    },
    {
      "cell_type": "code",
      "metadata": {
        "id": "-jJN2FPGag9z"
      },
      "source": [
        "def loadDataframe(path):\n",
        "  df = pd.read_csv(path, sep = '\\t', names=[\"X\", \"sentiment\", \"text\"])\n",
        "  df = df[['text','sentiment']]\n",
        "  return df\n",
        "\n",
        "train_path = '/content/twitter-train.tsv'\n",
        "test_path = '/content/twitter-test.tsv'\n",
        "validate_path = '/content/twitter-dev.tsv'\n",
        "train_df = loadDataframe(train_path)\n",
        "test_df = loadDataframe(test_path)\n",
        "val_df = loadDataframe(validate_path)"
      ],
      "execution_count": 4,
      "outputs": []
    },
    {
      "cell_type": "code",
      "metadata": {
        "id": "BGEwuziNanJt"
      },
      "source": [
        "def preprocess(data):\n",
        "    punct = \"/-'?!.,#$%\\'()*+-/:;<=>@[\\\\]^_`{|}~`\" + '\"\"“”’' + '∞θ÷α•à−β∅³π‘₹´°£€\\×™√²—–&'\n",
        "    def clean_special_chars(text, punct):\n",
        "        for p in punct:\n",
        "            text = text.replace(p, ' ')\n",
        "        return text\n",
        "\n",
        "    data = data.astype(str).apply(lambda x: clean_special_chars(x, punct))\n",
        "    return data\n",
        "\n",
        "x_train = preprocess(train_df['text'])\n",
        "x_test = preprocess(test_df['text'])\n",
        "x_val = preprocess(val_df['text'])\n",
        "\n",
        "sentmap = {'positive' : 1, 'negative' : -1, 'neutral' : 0}\n",
        "y_train = train_df['sentiment'].map(sentmap)\n",
        "y_test = test_df['sentiment'].map(sentmap)\n",
        "y_val = val_df['sentiment'].map(sentmap)"
      ],
      "execution_count": 5,
      "outputs": []
    },
    {
      "cell_type": "code",
      "metadata": {
        "id": "-R-0YfMxaq7Q"
      },
      "source": [
        "tokenizer = Tokenizer()\n",
        "tokenizer.fit_on_texts(list(x_train) + list(x_test) + list(x_val))\n",
        "\n",
        "x_train = tokenizer.texts_to_sequences(x_train)\n",
        "x_test = tokenizer.texts_to_sequences(x_test)\n",
        "x_val = tokenizer.texts_to_sequences(x_val)\n",
        "x_train = pad_sequences(x_train, maxlen=MAX_LEN)\n",
        "x_test = pad_sequences(x_test, maxlen=MAX_LEN)\n",
        "x_val = pad_sequences(x_val, maxlen=MAX_LEN)\n",
        "\n",
        "max_features = len(tokenizer.word_index) + 1"
      ],
      "execution_count": 6,
      "outputs": []
    },
    {
      "cell_type": "code",
      "metadata": {
        "colab": {
          "base_uri": "https://localhost:8080/",
          "height": 66,
          "referenced_widgets": [
            "18ad89e4ff2c4211b159e43cef4336c1",
            "8e4a6babf0f54b73907e5e306212dfc2",
            "45dc39b974ef4fa19efb58c67349b371",
            "ba620ce575be47cf83f7993874630a03",
            "5306c6e03f8a414280710d7fdc43df15",
            "f56ad367f98d4b7785aa647bebdc88ee",
            "21be2587deac497aa82908a711eb9415",
            "db9621c63c6a450e8ce906e12a05cebd"
          ]
        },
        "id": "0xoi-SVDau1S",
        "outputId": "c1cb2a9b-5b94-4ac5-df76-0c6ce0f7eab0"
      },
      "source": [
        "def get_coefs(word, *arr):\n",
        "    return word, np.asarray(arr, dtype='float32')\n",
        "\n",
        "def load_embeddings(path):\n",
        "    with open(path) as f:\n",
        "        return dict(get_coefs(*line.strip().split(' ')) for line in tqdm(f))\n",
        "\n",
        "def build_matrix(word_index, path):\n",
        "    embedding_index = load_embeddings(path)\n",
        "    embedding_matrix = np.zeros((len(word_index) + 1, 300))\n",
        "    unknown_words = []\n",
        "    \n",
        "    for word, i in word_index.items():\n",
        "        try:\n",
        "            embedding_matrix[i] = embedding_index[word]\n",
        "        except KeyError:\n",
        "            unknown_words.append(word)\n",
        "    return embedding_matrix, unknown_words\n",
        "\n",
        "embedding_matrix, unknown_words = build_matrix(tokenizer.word_index, FASTTEXT_EMBEDDING_PATH)"
      ],
      "execution_count": 7,
      "outputs": [
        {
          "output_type": "display_data",
          "data": {
            "application/vnd.jupyter.widget-view+json": {
              "model_id": "18ad89e4ff2c4211b159e43cef4336c1",
              "version_minor": 0,
              "version_major": 2
            },
            "text/plain": [
              "HBox(children=(FloatProgress(value=1.0, bar_style='info', max=1.0), HTML(value='')))"
            ]
          },
          "metadata": {
            "tags": []
          }
        },
        {
          "output_type": "stream",
          "text": [
            "\n"
          ],
          "name": "stdout"
        }
      ]
    },
    {
      "cell_type": "code",
      "metadata": {
        "id": "_RIOJEfba6rD"
      },
      "source": [
        "from keras import backend as K\n",
        "\n",
        "def recall_m(y_true, y_pred):\n",
        "    true_positives = K.sum(K.round(K.clip(y_true * y_pred, 0, 1)))\n",
        "    possible_positives = K.sum(K.round(K.clip(y_true, 0, 1)))\n",
        "    recall = true_positives / (possible_positives + K.epsilon())\n",
        "    return recall\n",
        "\n",
        "def precision_m(y_true, y_pred):\n",
        "    true_positives = K.sum(K.round(K.clip(y_true * y_pred, 0, 1)))\n",
        "    predicted_positives = K.sum(K.round(K.clip(y_pred, 0, 1)))\n",
        "    precision = true_positives / (predicted_positives + K.epsilon())\n",
        "    return precision\n",
        "\n",
        "def f1_m(y_true, y_pred):\n",
        "    precision = precision_m(y_true, y_pred)\n",
        "    recall = recall_m(y_true, y_pred)\n",
        "    return 2*((precision*recall)/(precision+recall+K.epsilon()))"
      ],
      "execution_count": 8,
      "outputs": []
    },
    {
      "cell_type": "code",
      "metadata": {
        "colab": {
          "base_uri": "https://localhost:8080/"
        },
        "id": "7oLK3LF_a-Nv",
        "outputId": "e8ede973-a445-40f8-a31e-66e65397d48a"
      },
      "source": [
        "model = Sequential()\n",
        "model.add(Embedding(input_dim=max_features, output_dim=EMBEDDING_DIM, weights=[embedding_matrix], input_length=MAX_LEN, trainable = False, mask_zero = True))\n",
        "model.add(SpatialDropout1D(0.4))\n",
        "model.add(LSTM(EMBEDDING_DIM, dropout=0.2, recurrent_dropout=0.2))\n",
        "model.add(Dense(3,activation='softmax'))\n",
        "model.compile(loss = 'categorical_crossentropy', optimizer='adam',metrics = ['accuracy', f1_m, precision_m, recall_m])\n",
        "print(model.summary())"
      ],
      "execution_count": 9,
      "outputs": [
        {
          "output_type": "stream",
          "text": [
            "WARNING:tensorflow:Layer lstm will not use cuDNN kernel since it doesn't meet the cuDNN kernel criteria. It will use generic GPU kernel as fallback when running on GPU\n",
            "Model: \"sequential\"\n",
            "_________________________________________________________________\n",
            "Layer (type)                 Output Shape              Param #   \n",
            "=================================================================\n",
            "embedding (Embedding)        (None, 300, 300)          9708000   \n",
            "_________________________________________________________________\n",
            "spatial_dropout1d (SpatialDr (None, 300, 300)          0         \n",
            "_________________________________________________________________\n",
            "lstm (LSTM)                  (None, 300)               721200    \n",
            "_________________________________________________________________\n",
            "dense (Dense)                (None, 3)                 903       \n",
            "=================================================================\n",
            "Total params: 10,430,103\n",
            "Trainable params: 722,103\n",
            "Non-trainable params: 9,708,000\n",
            "_________________________________________________________________\n",
            "None\n"
          ],
          "name": "stdout"
        }
      ]
    },
    {
      "cell_type": "code",
      "metadata": {
        "id": "SsWsXQNxTCls"
      },
      "source": [
        "from keras.utils import to_categorical\n",
        "def one_hot(y):\n",
        "    y += 1\n",
        "    y = to_categorical(y)\n",
        "    return y\n",
        "y_train = one_hot(y_train)\n",
        "y_test = one_hot(y_test)\n",
        "y_val = one_hot(y_val)"
      ],
      "execution_count": 10,
      "outputs": []
    },
    {
      "cell_type": "code",
      "metadata": {
        "colab": {
          "base_uri": "https://localhost:8080/"
        },
        "id": "OcrMb701bQEE",
        "outputId": "42066fa9-406f-45cf-d2fa-f80e89d8df68"
      },
      "source": [
        "batch_size = 1024\n",
        "model.fit(x_train, y_train, epochs = 20, batch_size=batch_size, verbose = 2)"
      ],
      "execution_count": 11,
      "outputs": [
        {
          "output_type": "stream",
          "text": [
            "Epoch 1/20\n",
            "10/10 - 18s - loss: 0.9853 - accuracy: 0.4967 - f1_m: 0.3268 - precision_m: 0.5635 - recall_m: 0.2479\n",
            "Epoch 2/20\n",
            "10/10 - 12s - loss: 0.8990 - accuracy: 0.5815 - f1_m: 0.5150 - precision_m: 0.6487 - recall_m: 0.4286\n",
            "Epoch 3/20\n",
            "10/10 - 12s - loss: 0.8547 - accuracy: 0.5996 - f1_m: 0.5509 - precision_m: 0.6635 - recall_m: 0.4714\n",
            "Epoch 4/20\n",
            "10/10 - 13s - loss: 0.8141 - accuracy: 0.6238 - f1_m: 0.5890 - precision_m: 0.6804 - recall_m: 0.5193\n",
            "Epoch 5/20\n",
            "10/10 - 12s - loss: 0.7993 - accuracy: 0.6333 - f1_m: 0.6005 - precision_m: 0.6886 - recall_m: 0.5325\n",
            "Epoch 6/20\n",
            "10/10 - 12s - loss: 0.7843 - accuracy: 0.6424 - f1_m: 0.6083 - precision_m: 0.6939 - recall_m: 0.5418\n",
            "Epoch 7/20\n",
            "10/10 - 13s - loss: 0.7854 - accuracy: 0.6404 - f1_m: 0.6133 - precision_m: 0.6946 - recall_m: 0.5492\n",
            "Epoch 8/20\n",
            "10/10 - 13s - loss: 0.7689 - accuracy: 0.6467 - f1_m: 0.6252 - precision_m: 0.6959 - recall_m: 0.5676\n",
            "Epoch 9/20\n",
            "10/10 - 13s - loss: 0.7644 - accuracy: 0.6541 - f1_m: 0.6289 - precision_m: 0.6987 - recall_m: 0.5719\n",
            "Epoch 10/20\n",
            "10/10 - 12s - loss: 0.7491 - accuracy: 0.6662 - f1_m: 0.6359 - precision_m: 0.7134 - recall_m: 0.5738\n",
            "Epoch 11/20\n",
            "10/10 - 12s - loss: 0.7348 - accuracy: 0.6682 - f1_m: 0.6468 - precision_m: 0.7151 - recall_m: 0.5908\n",
            "Epoch 12/20\n",
            "10/10 - 13s - loss: 0.7294 - accuracy: 0.6739 - f1_m: 0.6545 - precision_m: 0.7230 - recall_m: 0.5979\n",
            "Epoch 13/20\n",
            "10/10 - 12s - loss: 0.7157 - accuracy: 0.6815 - f1_m: 0.6661 - precision_m: 0.7347 - recall_m: 0.6093\n",
            "Epoch 14/20\n",
            "10/10 - 12s - loss: 0.7121 - accuracy: 0.6875 - f1_m: 0.6650 - precision_m: 0.7282 - recall_m: 0.6119\n",
            "Epoch 15/20\n",
            "10/10 - 12s - loss: 0.6956 - accuracy: 0.6962 - f1_m: 0.6810 - precision_m: 0.7397 - recall_m: 0.6310\n",
            "Epoch 16/20\n",
            "10/10 - 12s - loss: 0.6790 - accuracy: 0.7054 - f1_m: 0.6880 - precision_m: 0.7446 - recall_m: 0.6393\n",
            "Epoch 17/20\n",
            "10/10 - 13s - loss: 0.6636 - accuracy: 0.7130 - f1_m: 0.6988 - precision_m: 0.7529 - recall_m: 0.6521\n",
            "Epoch 18/20\n",
            "10/10 - 12s - loss: 0.6660 - accuracy: 0.7055 - f1_m: 0.6958 - precision_m: 0.7488 - recall_m: 0.6499\n",
            "Epoch 19/20\n",
            "10/10 - 12s - loss: 0.6611 - accuracy: 0.7075 - f1_m: 0.6983 - precision_m: 0.7545 - recall_m: 0.6499\n",
            "Epoch 20/20\n",
            "10/10 - 12s - loss: 0.6533 - accuracy: 0.7170 - f1_m: 0.7065 - precision_m: 0.7587 - recall_m: 0.6610\n"
          ],
          "name": "stdout"
        },
        {
          "output_type": "execute_result",
          "data": {
            "text/plain": [
              "<tensorflow.python.keras.callbacks.History at 0x7f710e4f3f10>"
            ]
          },
          "metadata": {
            "tags": []
          },
          "execution_count": 11
        }
      ]
    },
    {
      "cell_type": "code",
      "metadata": {
        "colab": {
          "base_uri": "https://localhost:8080/"
        },
        "id": "j7cdykKJbVEG",
        "outputId": "80ea0f54-228f-49de-a9b7-98732dc418ff"
      },
      "source": [
        "score, acc, f1, precision, recall = model.evaluate(x_test, y_test, verbose = 2, batch_size = batch_size)\n",
        "print(\"score: %.2f\" % (score))\n",
        "print(\"acc: %.2f\" % (acc))\n",
        "print(\"F1-score: %.2f\" % (f1))\n",
        "print(\"Precision: %.2f\" % (precision))\n",
        "print(\"Recall: %.2f\" % (recall))"
      ],
      "execution_count": 12,
      "outputs": [
        {
          "output_type": "stream",
          "text": [
            "4/4 - 2s - loss: 0.6864 - accuracy: 0.6938 - f1_m: 0.6855 - precision_m: 0.7284 - recall_m: 0.6473\n",
            "score: 0.69\n",
            "acc: 0.69\n",
            "F1-score: 0.69\n",
            "Precision: 0.73\n",
            "Recall: 0.65\n"
          ],
          "name": "stdout"
        }
      ]
    },
    {
      "cell_type": "code",
      "metadata": {
        "colab": {
          "base_uri": "https://localhost:8080/"
        },
        "id": "WqDWK4_pjB6t",
        "outputId": "f60efc60-0dc3-4318-fed5-748599879148"
      },
      "source": [
        "score, acc, f1, precision, recall = model.evaluate(x_val, y_val, verbose = 2, batch_size = batch_size)\n",
        "print(\"score: %.2f\" % (score))\n",
        "print(\"acc: %.2f\" % (acc))\n",
        "print(\"F1-score: %.2f\" % (f1))\n",
        "print(\"Precision: %.2f\" % (precision))\n",
        "print(\"Recall: %.2f\" % (recall))"
      ],
      "execution_count": 13,
      "outputs": [
        {
          "output_type": "stream",
          "text": [
            "2/2 - 1s - loss: 0.7481 - accuracy: 0.6844 - f1_m: 0.6709 - precision_m: 0.7250 - recall_m: 0.6243\n",
            "score: 0.75\n",
            "acc: 0.68\n",
            "F1-score: 0.67\n",
            "Precision: 0.73\n",
            "Recall: 0.62\n"
          ],
          "name": "stdout"
        }
      ]
    }
  ]
}